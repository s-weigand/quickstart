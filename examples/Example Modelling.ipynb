{
 "cells": [
  {
   "cell_type": "code",
   "execution_count": 1,
   "metadata": {
    "collapsed": false
   },
   "outputs": [],
   "source": [
    "from glotaran.model import (create_parameter_list, Parameter,\n",
    "                           ZeroConstraint, EqualConstraint, EqualAreaConstraint, FixedConstraint, BoundConstraint,\n",
    "                           Relation)\n",
    "from glotaran.models.kinetic import KineticModel, KMatrix, KineticMegacomplex, GaussianIrf"
   ]
  },
  {
   "cell_type": "code",
   "execution_count": 3,
   "metadata": {
    "collapsed": false,
    "scrolled": true
   },
   "outputs": [
    {
     "ename": "TypeError",
     "evalue": "'NoneType' object is not callable",
     "traceback": [
      "\u001b[0;31m---------------------------------------------------------------------------\u001b[0m",
      "\u001b[0;31mTypeError\u001b[0m                                 Traceback (most recent call last)",
      "\u001b[0;32m<ipython-input-3-05e4b1e86e22>\u001b[0m in \u001b[0;36m<module>\u001b[0;34m()\u001b[0m\n\u001b[1;32m      2\u001b[0m \u001b[1;33m\u001b[0m\u001b[0m\n\u001b[1;32m      3\u001b[0m \u001b[0mplist\u001b[0m \u001b[1;33m=\u001b[0m \u001b[0mcreate_parameter_list\u001b[0m\u001b[1;33m(\u001b[0m\u001b[1;33m[\u001b[0m\u001b[1;36m1\u001b[0m\u001b[1;33m,\u001b[0m \u001b[1;33m[\u001b[0m\u001b[1;34m\"k1\"\u001b[0m\u001b[1;33m,\u001b[0m\u001b[1;36m3\u001b[0m\u001b[1;33m]\u001b[0m\u001b[1;33m]\u001b[0m\u001b[1;33m)\u001b[0m\u001b[1;33m\u001b[0m\u001b[0m\n\u001b[0;32m----> 4\u001b[0;31m \u001b[0mmodel\u001b[0m\u001b[1;33m.\u001b[0m\u001b[0mparameter\u001b[0m\u001b[1;33m(\u001b[0m\u001b[0mplist\u001b[0m\u001b[1;33m)\u001b[0m\u001b[1;33m\u001b[0m\u001b[0m\n\u001b[0m\u001b[1;32m      5\u001b[0m \u001b[0mmodel\u001b[0m\u001b[1;33m.\u001b[0m\u001b[0madd_parameter\u001b[0m\u001b[1;33m(\u001b[0m\u001b[0mParameter\u001b[0m\u001b[1;33m(\u001b[0m\u001b[1;36m4\u001b[0m\u001b[1;33m,\u001b[0m \u001b[0mlabel\u001b[0m\u001b[1;33m=\u001b[0m\u001b[1;34m\"k2\"\u001b[0m\u001b[1;33m)\u001b[0m\u001b[1;33m)\u001b[0m\u001b[1;33m\u001b[0m\u001b[0m\n\u001b[1;32m      6\u001b[0m \u001b[0mmodel\u001b[0m\u001b[1;33m.\u001b[0m\u001b[0madd_parameter\u001b[0m\u001b[1;33m(\u001b[0m\u001b[0mParameter\u001b[0m\u001b[1;33m(\u001b[0m\u001b[1;36m5.87\u001b[0m\u001b[1;33m,\u001b[0m \u001b[0mlabel\u001b[0m\u001b[1;33m=\u001b[0m\u001b[1;34m\"k3\"\u001b[0m\u001b[1;33m)\u001b[0m\u001b[1;33m)\u001b[0m\u001b[1;33m\u001b[0m\u001b[0m\n",
      "\u001b[0;31mTypeError\u001b[0m: 'NoneType' object is not callable"
     ],
     "output_type": "error"
    }
   ],
   "source": [
    "model = KineticModel()\n",
    "\n",
    "plist = create_parameter_list([1, [\"k1\",3]])\n",
    "model.parameter(plist)\n",
    "model.add_parameter(Parameter(4, label=\"k2\"))\n",
    "model.add_parameter(Parameter(5.87, label=\"k3\"))\n",
    "model.add_parameter(Parameter(1, label=\"c\"))\n",
    "model.add_parameter(Parameter(1))\n",
    "model.add_parameter(Parameter(1))\n",
    "\n",
    "model.add_compartment_constraint(ZeroConstraint(5, [(799.99, 800.00), (1,100)]))\n",
    "model.add_compartment_constraint(EqualConstraint(5, (60, 799.99), 9, 6))\n",
    "model.add_compartment_constraint(EqualAreaConstraint(3, (670, 810), 1, 7, 0.0016))\n",
    "\n",
    "model.add_parameter_constraint(FixedConstraint([1, 2, 3, 54]))\n",
    "model.add_parameter_constraint(BoundConstraint((100, 150), lower=0))\n",
    "\n",
    "model.add_relation(Relation(86, {'const': 0, 89: 1, 90: 1, 87: -1.0}))\n",
    "model.add_relation(Relation(80, {83: 1, 84: 1, 81: -1.0}))\n",
    "\n",
    "km1 = KMatrix(\"km1\", {\n",
    "      (1,1): 11,\n",
    "      (2,1): 12,\n",
    "      (1,2): 13,\n",
    "      (3,1): 15,\n",
    "      (1,3): 16,\n",
    "      (4,1): 17,\n",
    "      (1,4): 18\n",
    "})\n",
    "model.add_k_matrix(km1)\n",
    "\n",
    "km2 = KMatrix(\"km2\", {\n",
    "      (1,1): 11,\n",
    "      (2,1): 12,\n",
    "      (1,2): 13,\n",
    "      (3,1): 15,\n",
    "      (1,3): 16,\n",
    "      (4,1): 17,\n",
    "      (1,4): 18\n",
    "})\n",
    "model.add_k_matrix(km2)\n",
    "\n",
    "cmplx1 = KineticMegacomplex(\"cmplx1\", \"km1\", [5,5,5])\n",
    "model.add_megacomplex(cmplx1)\n",
    "\n",
    "\n",
    "cmplx2 = KineticMegacomplex(\"cmplx2\", \"km2\", [5,5,5])\n",
    "model.add_megacomplex(cmplx2)\n",
    "\n",
    "model.add_irf(GaussianIrf('irf1', 41, 42, center_dispersion=[43,44], width_dispersion=45))\n",
    "model.add_irf(GaussianIrf('irf2', 46, [47, 48], center_dispersion=49))\n",
    "\n",
    "\n",
    "dataset1 = KineticDataset(\"set1\", [], [], [])\n",
    "dataset1.add_megacomplex(\"complx1\")\n",
    "dataset1.set_concentration_scaling(67)\n",
    "dataset1.set_irf('irf1')\n",
    "model.add_dataset(dataset1)\n",
    "dataset2 = KineticDataset(\"set2\", [], [], [])\n",
    "dataset2.add_megacomplex([\"complx1\", \"cmplx2\"])\n",
    "dataset2.add_scaling(Scaling(\"complx2\",[2,3],78))\n",
    "dataset2.set_irf('irf2')\n",
    "model.add_dataset(dataset2)\n",
    "\n",
    "print(model)"
   ]
  },
  {
   "cell_type": "code",
   "execution_count": 3,
   "metadata": {
    "collapsed": false
   },
   "outputs": [
    {
     "name": "stdout",
     "output_type": "stream",
     "text": [
      "Gaussian\n"
     ]
    }
   ],
   "source": [
    "c = GaussianIrf('irf1', 41, 42, center_dispersion=[43,44], width_dispersion=45)\n",
    "print(c.type_string())"
   ]
  },
  {
   "cell_type": "code",
   "execution_count": null,
   "metadata": {
    "collapsed": true
   },
   "outputs": [],
   "source": [
    ""
   ]
  }
 ],
 "metadata": {
  "kernelspec": {
   "display_name": "Python 3",
   "language": "python",
   "name": "python3"
  },
  "language_info": {
   "codemirror_mode": {
    "name": "ipython",
    "version": 3.0
   },
   "file_extension": ".py",
   "mimetype": "text/x-python",
   "name": "python",
   "nbconvert_exporter": "python",
   "pygments_lexer": "ipython3",
   "version": "3.5.1"
  }
 },
 "nbformat": 4,
 "nbformat_minor": 0
}