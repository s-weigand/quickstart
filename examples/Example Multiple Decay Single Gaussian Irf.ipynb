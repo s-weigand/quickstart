{
 "cells": [
  {
   "cell_type": "code",
   "execution_count": 1,
   "metadata": {
    "collapsed": false
   },
   "outputs": [
    {
     "name": "stdout",
     "output_type": "stream",
     "text": [
      "Modeltype: Kinetic\n",
      "\n",
      "Parameter\n",
      "---------\n",
      "\n",
      "Index: 1 Initial Value: 0.00201 Label: None\n",
      "Index: 2 Initial Value: 0.000535 Label: None\n",
      "Index: 3 Initial Value: 0.1 Label: None\n",
      "Index: 4 Initial Value: 10.0 Label: None\n",
      "\n",
      "Megacomplexes\n",
      "-------------\n",
      "\n",
      "Label: mc1\n",
      "K-Matrices: ['k1']\n",
      "\n",
      "Datasets\n",
      "--------\n",
      "\n",
      "Dataset 'dataset1'\n",
      "\n",
      "\tDataset Scaling: None\n",
      "\tInitial Concentration: None\n",
      "\tMegacomplexes: ['mc1']\n",
      "\n",
      "\tIrf: irf1\n",
      "\n",
      "\n",
      "K-Matrices\n",
      "----------\n",
      "\n",
      "Label: k1\n",
      "Matrix:\n",
      "[[2 0]\n",
      " [0 1]]\n",
      "\n",
      "\n",
      "IRFs\n",
      "----\n",
      "\n",
      "Label: irf1 Type: 'Gaussian' Center: [3] Width: [4] Center Dispersion: [] Width Dispersion [] Scale: [], Nomalize: True\n",
      "\n"
     ]
    }
   ],
   "source": [
    "from glotaran_tools.specification_parser import parse_yml\n",
    "from glotaran_core.model import Dataset\n",
    "from glotaran_models.kinetic import KineticSeparableModel\n",
    "import numpy as np\n",
    "from lmfit import Parameters\n",
    "# Imports for plotting\n",
    "\n",
    "import matplotlib.pyplot as plt\n",
    "%matplotlib notebook\n",
    "\n",
    "test_parameter = [201e-5, 535e-6, 0.1, 10]\n",
    "test_amps = [1,2,3]\n",
    "times = np.asarray(np.arange(-50, 1500, 1.5))\n",
    "\n",
    "fitspec = '''\n",
    "type: kinetic\n",
    "\n",
    "parameter: {}\n",
    "\n",
    "compartments: [s1, s2]\n",
    "\n",
    "megacomplexes:\n",
    "    - label: mc1\n",
    "      k_matrices: [k1]\n",
    "      \n",
    "k_matrices:\n",
    "  - label: \"k1\"\n",
    "    matrix: {{\n",
    "      '(\"s1\",\"s1\")': 1,\n",
    "      '(\"s2\",\"s2\")': 2,\n",
    "}}\n",
    "\n",
    "irf:\n",
    "  - label: irf1\n",
    "    type: gaussian\n",
    "    center: 3\n",
    "    width: 4\n",
    "datasets: \n",
    "  - label: dataset1\n",
    "    type: spectral\n",
    "    megacomplexes: [mc1]\n",
    "    path: 'data/dataset1.ascii'\n",
    "    irf: irf1\n",
    "\n",
    "'''\n",
    "model = parse_yml(fitspec.format(test_parameter))\n",
    "print(model)"
   ]
  },
  {
   "cell_type": "code",
   "execution_count": 2,
   "metadata": {
    "collapsed": false
   },
   "outputs": [
    {
     "name": "stdout",
     "output_type": "stream",
     "text": [
      "Name     Value      Min      Max   Stderr     Vary     Expr\n",
      "p1   0.00101     -inf      inf     None     True     None\n",
      "p2  0.000606     -inf      inf     None     True     None\n",
      "p3       0.3     -inf      inf     None     True     None\n",
      "p4        20     -inf      inf     None     True     None\n"
     ]
    }
   ],
   "source": [
    "simparams = Parameters()\n",
    "simparams.add(\"p1\", 101e-5)\n",
    "simparams.add(\"p2\",606e-6)\n",
    "simparams.add(\"p3\",0.3)\n",
    "simparams.add(\"p4\",20)\n",
    "simparams.pretty_print()"
   ]
  },
  {
   "cell_type": "code",
   "execution_count": 3,
   "metadata": {
    "collapsed": false
   },
   "outputs": [
    {
     "name": "stdout",
     "output_type": "stream",
     "text": [
      "Name     Value      Min      Max   Stderr     Vary     Expr\n",
      "p1   0.00201     -inf      inf     None     True     None\n",
      "p2  0.000535     -inf      inf     None     True     None\n",
      "p3       0.1     -inf      inf     None     True     None\n",
      "p4        10     -inf      inf     None     True     None\n"
     ]
    },
    {
     "name": "stderr",
     "output_type": "stream",
     "text": [
      "/usr/lib64/python3.5/site-packages/pyopencl-2016.2-py3.5-linux-x86_64.egg/pyopencl/cffi_cl.py:1469: CompilerWarning: Non-empty compiler output encountered. Set the environment variable PYOPENCL_COMPILER_OUTPUT=1 to see more.\n",
      "  \"to see more.\", CompilerWarning)\n"
     ]
    }
   ],
   "source": [
    "fitmodel = KineticSeparableModel(model)\n",
    "fitmodel.get_initial_fitting_parameter().pretty_print()"
   ]
  },
  {
   "cell_type": "code",
   "execution_count": 4,
   "metadata": {
    "collapsed": false
   },
   "outputs": [
    {
     "ename": "KeyError",
     "evalue": "'dataset1'",
     "traceback": [
      "\u001b[0;31m---------------------------------------------------------------------------\u001b[0m",
      "\u001b[0;31mKeyError\u001b[0m                                  Traceback (most recent call last)",
      "\u001b[0;32m<ipython-input-4-49b67561daf5>\u001b[0m in \u001b[0;36m<module>\u001b[0;34m()\u001b[0m\n\u001b[0;32m----> 1\u001b[0;31m \u001b[0mdata\u001b[0m \u001b[0;34m=\u001b[0m \u001b[0mfitmodel\u001b[0m\u001b[0;34m.\u001b[0m\u001b[0meval\u001b[0m\u001b[0;34m(\u001b[0m\u001b[0msimparams\u001b[0m\u001b[0;34m,\u001b[0m \u001b[0;34m*\u001b[0m\u001b[0mtimes\u001b[0m\u001b[0;34m,\u001b[0m \u001b[0;34m**\u001b[0m\u001b[0;34m{\u001b[0m\u001b[0;34m'dataset'\u001b[0m\u001b[0;34m:\u001b[0m\u001b[0;34m'dataset1'\u001b[0m\u001b[0;34m}\u001b[0m\u001b[0;34m)\u001b[0m\u001b[0;34m\u001b[0m\u001b[0m\n\u001b[0m\u001b[1;32m      2\u001b[0m \u001b[0mnoisy_data\u001b[0m \u001b[0;34m=\u001b[0m \u001b[0mfitmodel\u001b[0m\u001b[0;34m.\u001b[0m\u001b[0meval\u001b[0m\u001b[0;34m(\u001b[0m\u001b[0msimparams\u001b[0m\u001b[0;34m,\u001b[0m \u001b[0;34m*\u001b[0m\u001b[0mtimes\u001b[0m\u001b[0;34m,\u001b[0m \u001b[0;34m**\u001b[0m\u001b[0;34m{\u001b[0m\u001b[0;34m'dataset'\u001b[0m\u001b[0;34m:\u001b[0m\u001b[0;34m'dataset1'\u001b[0m\u001b[0;34m,\u001b[0m \u001b[0;34m'noise'\u001b[0m\u001b[0;34m:\u001b[0m\u001b[0;32mTrue\u001b[0m\u001b[0;34m,\u001b[0m \u001b[0;34m'noise_std_dev'\u001b[0m\u001b[0;34m:\u001b[0m\u001b[0;36m0.01\u001b[0m\u001b[0;34m}\u001b[0m\u001b[0;34m)\u001b[0m\u001b[0;34m\u001b[0m\u001b[0m\n\u001b[1;32m      3\u001b[0m \u001b[0mfig\u001b[0m \u001b[0;34m=\u001b[0m \u001b[0mplt\u001b[0m\u001b[0;34m.\u001b[0m\u001b[0mfigure\u001b[0m\u001b[0;34m(\u001b[0m\u001b[0;34m)\u001b[0m\u001b[0;34m\u001b[0m\u001b[0m\n\u001b[1;32m      4\u001b[0m \u001b[0mplt\u001b[0m\u001b[0;34m.\u001b[0m\u001b[0mplot\u001b[0m\u001b[0;34m(\u001b[0m\u001b[0mtimes\u001b[0m\u001b[0;34m,\u001b[0m \u001b[0mdata\u001b[0m\u001b[0;34m[\u001b[0m\u001b[0;34m:\u001b[0m\u001b[0;34m,\u001b[0m \u001b[0;36m0\u001b[0m\u001b[0;34m]\u001b[0m\u001b[0;34m)\u001b[0m\u001b[0;34m\u001b[0m\u001b[0m\n\u001b[1;32m      5\u001b[0m \u001b[0mplt\u001b[0m\u001b[0;34m.\u001b[0m\u001b[0mplot\u001b[0m\u001b[0;34m(\u001b[0m\u001b[0mtimes\u001b[0m\u001b[0;34m,\u001b[0m \u001b[0mnoisy_data\u001b[0m\u001b[0;34m[\u001b[0m\u001b[0;34m:\u001b[0m\u001b[0;34m,\u001b[0m \u001b[0;36m0\u001b[0m\u001b[0;34m]\u001b[0m\u001b[0;34m)\u001b[0m\u001b[0;34m\u001b[0m\u001b[0m\n",
      "\u001b[0;32m/usr/lib64/python3.5/site-packages/glotaran_core-0.1.0-py3.5-linux-x86_64.egg/glotaran_core/fitting/variable_projection/separable_model.py\u001b[0m in \u001b[0;36meval\u001b[0;34m(self, parameter, *args, **kwargs)\u001b[0m\n\u001b[1;32m     17\u001b[0m     \u001b[0;32mdef\u001b[0m \u001b[0meval\u001b[0m\u001b[0;34m(\u001b[0m\u001b[0mself\u001b[0m\u001b[0;34m,\u001b[0m \u001b[0mparameter\u001b[0m\u001b[0;34m,\u001b[0m \u001b[0;34m*\u001b[0m\u001b[0margs\u001b[0m\u001b[0;34m,\u001b[0m \u001b[0;34m**\u001b[0m\u001b[0mkwargs\u001b[0m\u001b[0;34m)\u001b[0m\u001b[0;34m:\u001b[0m\u001b[0;34m\u001b[0m\u001b[0m\n\u001b[1;32m     18\u001b[0m         \u001b[0me\u001b[0m \u001b[0;34m=\u001b[0m \u001b[0mself\u001b[0m\u001b[0;34m.\u001b[0m\u001b[0me_matrix\u001b[0m\u001b[0;34m(\u001b[0m\u001b[0;34m**\u001b[0m\u001b[0mkwargs\u001b[0m\u001b[0;34m)\u001b[0m\u001b[0;34m\u001b[0m\u001b[0m\n\u001b[0;32m---> 19\u001b[0;31m         \u001b[0mc\u001b[0m \u001b[0;34m=\u001b[0m \u001b[0mself\u001b[0m\u001b[0;34m.\u001b[0m\u001b[0mc_matrix\u001b[0m\u001b[0;34m(\u001b[0m\u001b[0mparameter\u001b[0m\u001b[0;34m,\u001b[0m \u001b[0;34m*\u001b[0m\u001b[0margs\u001b[0m\u001b[0;34m,\u001b[0m \u001b[0;34m**\u001b[0m\u001b[0mkwargs\u001b[0m\u001b[0;34m)\u001b[0m\u001b[0;34m\u001b[0m\u001b[0m\n\u001b[0m\u001b[1;32m     20\u001b[0m         \u001b[0mnoise\u001b[0m \u001b[0;34m=\u001b[0m \u001b[0mkwargs\u001b[0m\u001b[0;34m[\u001b[0m\u001b[0;34m\"noise\"\u001b[0m\u001b[0;34m]\u001b[0m \u001b[0;32mif\u001b[0m \u001b[0;34m\"noise\"\u001b[0m \u001b[0;32min\u001b[0m \u001b[0mkwargs\u001b[0m \u001b[0;32melse\u001b[0m \u001b[0;32mFalse\u001b[0m\u001b[0;34m\u001b[0m\u001b[0m\n\u001b[1;32m     21\u001b[0m         \u001b[0mres\u001b[0m \u001b[0;34m=\u001b[0m \u001b[0mnp\u001b[0m\u001b[0;34m.\u001b[0m\u001b[0mempty\u001b[0m\u001b[0;34m(\u001b[0m\u001b[0;34m(\u001b[0m\u001b[0mc\u001b[0m\u001b[0;34m.\u001b[0m\u001b[0mshape\u001b[0m\u001b[0;34m[\u001b[0m\u001b[0;36m1\u001b[0m\u001b[0;34m]\u001b[0m\u001b[0;34m,\u001b[0m \u001b[0me\u001b[0m\u001b[0;34m.\u001b[0m\u001b[0mshape\u001b[0m\u001b[0;34m[\u001b[0m\u001b[0;36m0\u001b[0m\u001b[0;34m]\u001b[0m\u001b[0;34m)\u001b[0m\u001b[0;34m)\u001b[0m\u001b[0;34m\u001b[0m\u001b[0m\n",
      "\u001b[0;32m/usr/lib64/python3.5/site-packages/glotaran_core-0.1.0-py3.5-linux-x86_64.egg/glotaran_models/kinetic/separable_model.py\u001b[0m in \u001b[0;36mc_matrix\u001b[0;34m(self, parameter, *times, **kwargs)\u001b[0m\n\u001b[1;32m     90\u001b[0m             \u001b[0mx\u001b[0m \u001b[0;34m=\u001b[0m \u001b[0;34m'{}_x'\u001b[0m\u001b[0;34m.\u001b[0m\u001b[0mformat\u001b[0m\u001b[0;34m(\u001b[0m\u001b[0mdataset\u001b[0m\u001b[0;34m)\u001b[0m\u001b[0;34m\u001b[0m\u001b[0m\n\u001b[1;32m     91\u001b[0m             \u001b[0mx\u001b[0m \u001b[0;34m=\u001b[0m \u001b[0mkwargs\u001b[0m\u001b[0;34m[\u001b[0m\u001b[0mx\u001b[0m\u001b[0;34m]\u001b[0m \u001b[0;32mif\u001b[0m \u001b[0mx\u001b[0m \u001b[0;32min\u001b[0m \u001b[0mkwargs\u001b[0m \u001b[0;32melse\u001b[0m\u001b[0;31m \u001b[0m\u001b[0;31m\\\u001b[0m\u001b[0;34m\u001b[0m\u001b[0m\n\u001b[0;32m---> 92\u001b[0;31m                 \u001b[0mlist\u001b[0m\u001b[0;34m(\u001b[0m\u001b[0mrange\u001b[0m\u001b[0;34m(\u001b[0m\u001b[0mkwargs\u001b[0m\u001b[0;34m[\u001b[0m\u001b[0;34m'{}'\u001b[0m\u001b[0;34m.\u001b[0m\u001b[0mformat\u001b[0m\u001b[0;34m(\u001b[0m\u001b[0mdataset\u001b[0m\u001b[0;34m)\u001b[0m\u001b[0;34m]\u001b[0m\u001b[0;34m.\u001b[0m\u001b[0mshape\u001b[0m\u001b[0;34m[\u001b[0m\u001b[0;36m1\u001b[0m\u001b[0;34m]\u001b[0m\u001b[0;34m)\u001b[0m\u001b[0;34m)\u001b[0m\u001b[0;34m\u001b[0m\u001b[0m\n\u001b[0m\u001b[1;32m     93\u001b[0m             c = self._construct_c_matrix_for_dataset(parameter, desc,\n\u001b[1;32m     94\u001b[0m                                                      \u001b[0mnp\u001b[0m\u001b[0;34m.\u001b[0m\u001b[0masarray\u001b[0m\u001b[0;34m(\u001b[0m\u001b[0mtimes\u001b[0m\u001b[0;34m)\u001b[0m\u001b[0;34m,\u001b[0m\u001b[0;34m\u001b[0m\u001b[0m\n",
      "\u001b[0;31mKeyError\u001b[0m: 'dataset1'"
     ],
     "output_type": "error"
    }
   ],
   "source": [
    "data = fitmodel.eval(simparams, *times, **{'dataset':'dataset1'})\n",
    "noisy_data = fitmodel.eval(simparams, *times, **{'dataset':'dataset1', 'noise':True, 'noise_std_dev':0.01})\n",
    "fig = plt.figure()\n",
    "plt.plot(times, data[:, 0])\n",
    "plt.plot(times, noisy_data[:, 0])"
   ]
  },
  {
   "cell_type": "code",
   "execution_count": null,
   "metadata": {
    "collapsed": false
   },
   "outputs": [],
   "source": [
    "result = fitmodel.fit(fitmodel.get_initial_fitting_parameter(), \n",
    "                      *times, \n",
    "                      **{\"data\": data, 'verbose':1}\n",
    "                     )\n",
    "result.best_fit_parameter.pretty_print()\n",
    "fitted_data = fitmodel.eval(result.best_fit_parameter, *times, **{'dataset':'dataset1'})\n",
    "reconstructed_data = result.eval(*times, **{\"data\": data})\n",
    "print('Fitted Amplitudes: {}'.format(result.e_matrix(*times, **{\"data\": data})))\n",
    "fig = plt.figure()\n",
    "plt.plot(times, data[:, 0])\n",
    "plt.plot(times, fitted_data[:, 0])\n",
    "plt.plot(times, reconstructed_data[:, 0])"
   ]
  },
  {
   "cell_type": "code",
   "execution_count": null,
   "metadata": {
    "collapsed": false
   },
   "outputs": [],
   "source": [
    "noise_result = fitmodel.fit(fitmodel.get_initial_fitting_parameter(), \n",
    "                      *times, \n",
    "                      **{\"data\": noisy_data, 'verbose':1}\n",
    "                     )\n",
    "noise_result.best_fit_parameter.pretty_print()\n",
    "print('Fitted Amplitudes: {}'.format(noise_result.e_matrix(*times, **{\"data\": data})))\n",
    "fitted_data = fitmodel.eval(noise_result.best_fit_parameter, *times, **{'dataset':'dataset1'})\n",
    "reconstructed_data = noise_result.eval(*times, **{\"data\": data})\n",
    "\n",
    "fig = plt.figure()\n",
    "plt.plot(times, noisy_data[:, 0])\n",
    "plt.plot(times, fitted_data[:, 0])\n",
    "plt.plot(times, reconstructed_data[:, 0])"
   ]
  },
  {
   "cell_type": "code",
   "execution_count": null,
   "metadata": {
    "collapsed": true
   },
   "outputs": [],
   "source": [
    ""
   ]
  }
 ],
 "metadata": {
  "kernelspec": {
   "display_name": "Python 3",
   "language": "python",
   "name": "python3"
  },
  "language_info": {
   "codemirror_mode": {
    "name": "ipython",
    "version": 3.0
   },
   "file_extension": ".py",
   "mimetype": "text/x-python",
   "name": "python",
   "nbconvert_exporter": "python",
   "pygments_lexer": "ipython3",
   "version": "3.5.2"
  }
 },
 "nbformat": 4,
 "nbformat_minor": 0
}