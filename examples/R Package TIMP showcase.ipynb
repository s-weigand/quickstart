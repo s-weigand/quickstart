{
 "cells": [
  {
   "cell_type": "markdown",
   "metadata": {},
   "source": [
    "## R Package TIMP showcase - global analysis of a 3 comp simulated decay"
   ]
  },
  {
   "cell_type": "code",
   "execution_count": null,
   "metadata": {
    "collapsed": false
   },
   "outputs": [],
   "source": [
    "import numpy as np\n",
    "\n",
    "from lmfit import Parameters\n",
    "import time\n",
    "\n",
    "from glotaran_tools.specification_parser import parse_yml\n",
    "from glotaran_models.kinetic import KineticSeparableModel\n",
    "\n",
    "import matplotlib.pyplot as plt\n",
    "%matplotlib notebook\n",
    "\n",
    "fitspec = '''\n",
    "type: kinetic\n",
    "\n",
    "parameter: {}\n",
    "\n",
    "compartments: [s1, s2, s3]\n",
    "\n",
    "megacomplexes:\n",
    "- label: mc1\n",
    "  k_matrices: [k1]\n",
    "\n",
    "k_matrices:\n",
    "  - label: \"k1\"\n",
    "    matrix: {{\n",
    "      '(\"s1\",\"s1\")': 1,\n",
    "      '(\"s2\",\"s2\")': 2,\n",
    "      '(\"s3\",\"s3\")': 3,\n",
    "    }}\n",
    "\n",
    "initial_concentrations: []\n",
    "\n",
    "irf:\n",
    "  - label: irf1\n",
    "    type: gaussian\n",
    "    center: 4\n",
    "    width: 5\n",
    "\n",
    "\n",
    "datasets:\n",
    "- label: dataset1\n",
    "  type: spectral\n",
    "  megacomplexes: [mc1]\n",
    "  path: ''\n",
    "  irf: irf1\n",
    "'''\n",
    "   "
   ]
  },
  {
   "cell_type": "code",
   "execution_count": null,
   "metadata": {
    "collapsed": false
   },
   "outputs": [],
   "source": [
    "initial_parameter = [123e-3, 234e-4, 567e-5, -0.05, 0.1]\n",
    "\n",
    "initial_parameter = [123e-3, 234e-4, 567e-5, 0.28, 0.28]\n",
    "\n",
    "times = np.concatenate([np.arange(-10, -1, 0.1).flatten(),\n",
    "                        np.arange(-1, 10, 0.01).flatten(),\n",
    "                        np.arange(10, 50, 1.5).flatten(),\n",
    "                        np.arange(50, 1000, 15).flatten()])\n",
    "wavenum = np.arange(12820, 15120, 4.6)\n",
    "\n",
    "simparams = Parameters()\n",
    "simparams.add(\"p1\", 101e-3)\n",
    "simparams.add(\"p2\", 202e-4)\n",
    "simparams.add(\"p3\", 505e-5)\n",
    "simparams.add(\"p4\", 0.04)\n",
    "simparams.add(\"p5\", 0.5)\n",
    "simparams.pretty_print()"
   ]
  },
  {
   "cell_type": "code",
   "execution_count": null,
   "metadata": {
    "collapsed": false
   },
   "outputs": [],
   "source": [
    "fitspec.format(initial_parameter)"
   ]
  },
  {
   "cell_type": "code",
   "execution_count": null,
   "metadata": {
    "collapsed": false
   },
   "outputs": [],
   "source": [
    "model = parse_yml(fitspec.format(initial_parameter))\n",
    "print(model)"
   ]
  },
  {
   "cell_type": "code",
   "execution_count": null,
   "metadata": {
    "collapsed": false
   },
   "outputs": [],
   "source": [
    "fitmodel = KineticSeparableModel(model)\n",
    "start = time.perf_counter()\n",
    "data = fitmodel.eval(simparams, *times, **{'dataset':'dataset1', \n",
    "                                           'noise':True, 'noise_std_dev':0.000001,\n",
    "                                           'dataset1_x': wavenum,\n",
    "                                           'amplitudes':[1, 1, 1],\n",
    "                                          'locations':[14700, 13515, 14180],\n",
    "                                           'delta': [400,100,300]\n",
    "                                           })\n",
    "\n",
    "stop = time.perf_counter()\n",
    "print(\"Simulating the data took: {:.2f}s\".format(stop-start))\n",
    "print(\"Data dimensions {:.0f}x{:.0f}\".format(data.shape[0],data.shape[1]))\n",
    "print(\"Total number of points {:.0f}\".format(data.shape[0]*data.shape[1]))\n"
   ]
  },
  {
   "cell_type": "code",
   "execution_count": null,
   "metadata": {
    "collapsed": false
   },
   "outputs": [],
   "source": [
    "# DAS\n",
    "DAS = fitmodel.coefficients(**{'dataset':'dataset1','dataset1_x': wavenum,\n",
    "                                           'amplitudes':[1, 1, 1],\n",
    "                                          'locations':[14700, 13515, 14180],\n",
    "                                           'delta': [400,100,300]\n",
    "                                           })\n",
    "print(data[0,0])\n",
    "print(wavenum.shape)\n",
    "\n",
    "fig = plt.figure()\n",
    "plt.plot(times, data[:, 300])\n",
    "\n",
    "fig = plt.figure()\n",
    "d1, = plt.plot(wavenum, DAS[:, 0], label=simparams['p1'].value)\n",
    "d2, = plt.plot(wavenum, DAS[:, 1], label=simparams['p2'].value)\n",
    "d3, = plt.plot(wavenum, DAS[:, 2], label=simparams['p3'].value)\n",
    "plt.legend(handles=[d1, d2, d3])"
   ]
  },
  {
   "cell_type": "code",
   "execution_count": null,
   "metadata": {
    "collapsed": false
   },
   "outputs": [],
   "source": [
    "# Plot full trace\n",
    "\n",
    "fig = plt.figure()\n",
    "plt.xlabel('Time (ps)')\n",
    "plt.ylabel('$Wavenumber\\ [\\ cm^{-1}\\ ]$')\n",
    "plt.pcolormesh(times, wavenum, data.T)\n",
    "plt.show()"
   ]
  },
  {
   "cell_type": "code",
   "execution_count": null,
   "metadata": {
    "collapsed": false
   },
   "outputs": [],
   "source": [
    "#%time{fitmodel.fit(fitmodel.get_initial_fitting_parameter(), *times, **{\"dataset1\": data})}\n",
    "start = time.perf_counter()\n",
    "result = fitmodel.fit(fitmodel.get_initial_fitting_parameter(), *times, **{\"dataset1\": data})\n",
    "stop = time.perf_counter()\n",
    "result.best_fit_parameter.pretty_print()\n",
    "reconstructed_data = result.eval(*times, **{\"dataset1\": data})\n",
    "print(\"Fitting the data took: {:.2f}s\".format(stop-start))"
   ]
  },
  {
   "cell_type": "code",
   "execution_count": null,
   "metadata": {
    "collapsed": false
   },
   "outputs": [],
   "source": [
    "# Plot residuals\n",
    "\n",
    "fig = plt.figure()\n",
    "plt.xlabel('Time (ps)')\n",
    "plt.ylabel('$Wavenumber\\ [\\ cm^{-1}\\ ]$')\n",
    "plt.pcolormesh(times, wavenum, result.final_residual(*times, **{\"dataset1\": data}).T)\n",
    "plt.show()\n",
    "\n",
    "lsv, svals, rsv = result.final_residual_svd(*times, **{\"dataset1\": data})\n",
    "print(svals.shape)\n",
    "\n",
    "fig = plt.figure()\n",
    "plt.plot(lsv[1, :], label=\"lsv\")\n",
    "\n",
    "fig = plt.figure()\n",
    "plt.plot(svals[:20], label=\"sval\")\n",
    "\n",
    "fig = plt.figure()\n",
    "plt.plot(rsv[1, :], label=\"rsv\")"
   ]
  },
  {
   "cell_type": "code",
   "execution_count": null,
   "metadata": {
    "collapsed": false
   },
   "outputs": [],
   "source": [
    "# DAS\n",
    "DAS = result.spectra(*times, **{'dataset':'dataset1', \"dataset1\": data})\n",
    "print(DAS.shape)\n",
    "fig = plt.figure()\n",
    "d1, = plt.plot(wavenum, DAS[0, :], label=result.best_fit_parameter['p1'].value)\n",
    "d2, = plt.plot(wavenum, DAS[1, :], label=result.best_fit_parameter['p2'].value)\n",
    "d3, = plt.plot(wavenum, DAS[2, :], label=result.best_fit_parameter['p3'].value)\n",
    "plt.legend(handles=[d1, d2, d3])\n",
    "\n"
   ]
  },
  {
   "cell_type": "code",
   "execution_count": null,
   "metadata": {
    "collapsed": false
   },
   "outputs": [],
   "source": [
    "# normalized DAS\n",
    "nDAS = result.normalized_spectra(*times, **{'dataset':'dataset1', \"dataset1\": data})\n",
    "print(DAS.shape)\n",
    "fig = plt.figure()\n",
    "d1, = plt.plot(wavenum, nDAS[0, :], label=result.best_fit_parameter['p1'].value)\n",
    "d2, = plt.plot(wavenum, nDAS[1, :], label=result.best_fit_parameter['p2'].value)\n",
    "d3, = plt.plot(wavenum, nDAS[2, :], label=result.best_fit_parameter['p3'].value)\n",
    "plt.legend(handles=[d1, d2, d3])\n"
   ]
  },
  {
   "cell_type": "code",
   "execution_count": null,
   "metadata": {
    "collapsed": false
   },
   "outputs": [],
   "source": [
    "lsv, svals, rsv = result.svd(*times, **{\"dataset1\": data})\n",
    "print(svals.shape)\n",
    "\n",
    "fig = plt.figure()\n",
    "plt.plot(times, lsv[:, :3], label=\"lsv\")\n",
    "\n",
    "fig = plt.figure()\n",
    "plt.plot(svals[:20], label=\"sval\")\n",
    "\n",
    "fig = plt.figure()\n",
    "plt.plot(rsv[0, :], label=\"rsv\")"
   ]
  },
  {
   "cell_type": "code",
   "execution_count": null,
   "metadata": {
    "collapsed": false
   },
   "outputs": [],
   "source": [
    "lsv, svals, rsv = result.svd(*times, **{\"dataset1\": data})\n",
    "print(svals.shape)\n",
    "\n",
    "fig = plt.figure()\n",
    "plt.plot(times, lsv[:, :3], label=\"lsv\")"
   ]
  },
  {
   "cell_type": "code",
   "execution_count": null,
   "metadata": {
    "collapsed": true
   },
   "outputs": [],
   "source": []
  }
 ],
 "metadata": {
  "kernelspec": {
   "display_name": "Python 3",
   "language": "python",
   "name": "python3"
  },
  "language_info": {
   "codemirror_mode": {
    "name": "ipython",
    "version": 3
   },
   "file_extension": ".py",
   "mimetype": "text/x-python",
   "name": "python",
   "nbconvert_exporter": "python",
   "pygments_lexer": "ipython3",
   "version": "3.5.2"
  }
 },
 "nbformat": 4,
 "nbformat_minor": 1
}
